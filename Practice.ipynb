{
 "cells": [
  {
   "cell_type": "markdown",
   "id": "a48ddf86",
   "metadata": {},
   "source": [
    "Q1) Create a vector X containing input features and Y as the target. Assume that the input feature X is multi-dimensional. Fit a linear regression model using the given input X and the target Y. After fitting, obtain the intercept of the filled linear iteration model as output"
   ]
  },
  {
   "cell_type": "code",
   "execution_count": 12,
   "id": "6c91bcdf",
   "metadata": {},
   "outputs": [
    {
     "name": "stdout",
     "output_type": "stream",
     "text": [
      "9.510475040951807\n"
     ]
    }
   ],
   "source": [
    "from sklearn.linear_model import LinearRegression\n",
    "\n",
    "x = [[1, 2], [3, 4], [5, 1], [6, 10], [12, 11]]\n",
    "\n",
    "y = [6, 8, 9, 10, 1]\n",
    "\n",
    "model = LinearRegression()\n",
    "\n",
    "model.fit(x, y)\n",
    "\n",
    "intercept = model.intercept_\n",
    "print(intercept)"
   ]
  },
  {
   "cell_type": "markdown",
   "id": "44e2ce28",
   "metadata": {},
   "source": [
    "Q2) Fit a logistic regression model uses a given input and output patterns X and Y, respectively. Once fitted, obtain the intercept of fitted logistic regression model"
   ]
  },
  {
   "cell_type": "code",
   "execution_count": 13,
   "id": "cc486f99",
   "metadata": {},
   "outputs": [
    {
     "name": "stdout",
     "output_type": "stream",
     "text": [
      "6.500008796631836\n"
     ]
    }
   ],
   "source": [
    "import numpy as np\n",
    "from sklearn.linear_model import LogisticRegression\n",
    "\n",
    "X = np.array([[1, 2, 3], [4, 5, 6], [7, 8, 9], [10, 11, 12]])\n",
    "y = np.array([0, 1, 0, 1])\n",
    "\n",
    "model = LogisticRegression().fit(X, y)\n",
    "\n",
    "coefficients = model.coef_\n",
    "intercept = model.intercept_\n",
    "\n",
    "intercept_calculated = -(intercept[0] / np.sum(coefficients))\n",
    "\n",
    "print(intercept_calculated)"
   ]
  },
  {
   "cell_type": "code",
   "execution_count": null,
   "id": "be7d4b7a",
   "metadata": {},
   "outputs": [],
   "source": []
  }
 ],
 "metadata": {
  "kernelspec": {
   "display_name": "Python 3 (ipykernel)",
   "language": "python",
   "name": "python3"
  },
  "language_info": {
   "codemirror_mode": {
    "name": "ipython",
    "version": 3
   },
   "file_extension": ".py",
   "mimetype": "text/x-python",
   "name": "python",
   "nbconvert_exporter": "python",
   "pygments_lexer": "ipython3",
   "version": "3.9.12"
  }
 },
 "nbformat": 4,
 "nbformat_minor": 5
}
