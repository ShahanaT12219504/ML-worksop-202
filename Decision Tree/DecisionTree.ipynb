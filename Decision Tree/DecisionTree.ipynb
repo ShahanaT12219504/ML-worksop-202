{
 "cells": [
  {
   "cell_type": "code",
   "execution_count": 4,
   "id": "8d94b31c",
   "metadata": {},
   "outputs": [],
   "source": [
    "import pandas as pd\n",
    "from sklearn.tree import DecisionTreeClassifier\n",
    "from sklearn.model_selection import train_test_split\n",
    "from sklearn import preprocessing\n",
    "import numpy as np"
   ]
  },
  {
   "cell_type": "code",
   "execution_count": 5,
   "id": "c1d4042e",
   "metadata": {},
   "outputs": [],
   "source": [
    "dataset = np.array([[\"Salty\",\"Hot\",\"Soft\",\"No\"],\n",
    "                   [\"Spicy\",\"Hot\",\"Soft\",\"No\"],\n",
    "                   [\"Spciyy\",\"Hot\",\"Hard\",\"Yes\"],\n",
    "                   [\"Spicy\",\"Cold\",\"Hard\",\"No\"],\n",
    "                   [\"Spicy\",\"Hot\",\"Hard\",\"Yes\"],\n",
    "                   [\"Sweet\",\"Cold\",\"Soft\",\"Yes\"],\n",
    "                   [\"Salty\",\"Cold\",\"Soft\",\"No\"],\n",
    "                   [\"Sweet\",\"Hot\",\"Soft\",\"Yes\"],\n",
    "                   [\"Spicy\",\"Cold\",\"Soft\",\"Yes\"],\n",
    "                   [\"Salty\",\"Hot\",\"Hard\",\"Yes\"]])"
   ]
  },
  {
   "cell_type": "code",
   "execution_count": 14,
   "id": "32897463",
   "metadata": {},
   "outputs": [],
   "source": [
    "# split features and target\n",
    "features = dataset[:,:-1] #taste,temperature, texture\n",
    "targets = dataset[:,-1] # eat"
   ]
  },
  {
   "cell_type": "code",
   "execution_count": 15,
   "id": "2a2766b2",
   "metadata": {},
   "outputs": [],
   "source": [
    "enc = preprocessing.OrdinalEncoder()\n",
    "encoded_features = enc.fit_transform(features)"
   ]
  },
  {
   "cell_type": "code",
   "execution_count": 16,
   "id": "e946c06f",
   "metadata": {},
   "outputs": [
    {
     "data": {
      "text/plain": [
       "array([[0., 1., 1.],\n",
       "       [2., 1., 1.],\n",
       "       [1., 1., 0.],\n",
       "       [2., 0., 0.],\n",
       "       [2., 1., 0.],\n",
       "       [3., 0., 1.],\n",
       "       [0., 0., 1.],\n",
       "       [3., 1., 1.],\n",
       "       [2., 0., 1.],\n",
       "       [0., 1., 0.]])"
      ]
     },
     "execution_count": 16,
     "metadata": {},
     "output_type": "execute_result"
    }
   ],
   "source": [
    "encoded_features"
   ]
  },
  {
   "cell_type": "code",
   "execution_count": 18,
   "id": "c7331ef0",
   "metadata": {},
   "outputs": [],
   "source": [
    "# split into test and train\n",
    "feature_train,feature_test,target_train,target_test = train_test_split(encoded_features,targets,test_size=0.10)"
   ]
  },
  {
   "cell_type": "code",
   "execution_count": 24,
   "id": "6485f670",
   "metadata": {},
   "outputs": [],
   "source": [
    "# inputs\n",
    "guess = np.array([[\"Salty\",\"Hot\",\"Hard\"]])"
   ]
  },
  {
   "cell_type": "code",
   "execution_count": 21,
   "id": "8162b5c7",
   "metadata": {},
   "outputs": [],
   "source": [
    "# Transform the guess using the same encoder (fit on all features)\n",
    "encoded_guess = enc.transform(guess)"
   ]
  },
  {
   "cell_type": "code",
   "execution_count": 22,
   "id": "47e1020b",
   "metadata": {},
   "outputs": [
    {
     "data": {
      "text/plain": [
       "array([[0., 1., 0.]])"
      ]
     },
     "execution_count": 22,
     "metadata": {},
     "output_type": "execute_result"
    }
   ],
   "source": [
    "encoded_guess"
   ]
  },
  {
   "cell_type": "code",
   "execution_count": 23,
   "id": "bab71642",
   "metadata": {},
   "outputs": [],
   "source": [
    "# Train the decision tree classifier\n",
    "model = DecisionTreeClassifier()\n",
    "fitted = model.fit(feature_train, target_train)"
   ]
  },
  {
   "cell_type": "code",
   "execution_count": 30,
   "id": "0b9c0ec6",
   "metadata": {},
   "outputs": [
    {
     "data": {
      "text/plain": [
       "'Yes'"
      ]
     },
     "execution_count": 30,
     "metadata": {},
     "output_type": "execute_result"
    }
   ],
   "source": [
    "# Make predictions on the encoded guess\n",
    "predictions = fitted.predict(encoded_guess)\n",
    "predictions[0]"
   ]
  },
  {
   "cell_type": "code",
   "execution_count": 50,
   "id": "737c3ac7",
   "metadata": {},
   "outputs": [
    {
     "name": "stdout",
     "output_type": "stream",
     "text": [
      "Initial Data Preview:\n",
      "   PassengerId  Survived  Pclass  \\\n",
      "0            1         0       3   \n",
      "1            2         1       1   \n",
      "2            3         1       3   \n",
      "3            4         1       1   \n",
      "4            5         0       3   \n",
      "\n",
      "                                                Name     Sex   Age  SibSp  \\\n",
      "0                            Braund, Mr. Owen Harris    male  22.0      1   \n",
      "1  Cumings, Mrs. John Bradley (Florence Briggs Th...  female  38.0      1   \n",
      "2                             Heikkinen, Miss. Laina  female  26.0      0   \n",
      "3       Futrelle, Mrs. Jacques Heath (Lily May Peel)  female  35.0      1   \n",
      "4                           Allen, Mr. William Henry    male  35.0      0   \n",
      "\n",
      "   Parch            Ticket     Fare Cabin Embarked  \n",
      "0      0         A/5 21171   7.2500   NaN        S  \n",
      "1      0          PC 17599  71.2833   C85        C  \n",
      "2      0  STON/O2. 3101282   7.9250   NaN        S  \n",
      "3      0            113803  53.1000  C123        S  \n",
      "4      0            373450   8.0500   NaN        S  \n",
      "Number of samples after preprocessing: 891\n",
      "Shape of X (features): (891, 8)\n",
      "Shape of y (target): (891,)\n",
      "Accuracy: 0.8209\n",
      "Confusion Matrix:\n",
      "[[138  19]\n",
      " [ 29  82]]\n",
      "Classification Report:\n",
      "              precision    recall  f1-score   support\n",
      "\n",
      "           0       0.83      0.88      0.85       157\n",
      "           1       0.81      0.74      0.77       111\n",
      "\n",
      "    accuracy                           0.82       268\n",
      "   macro avg       0.82      0.81      0.81       268\n",
      "weighted avg       0.82      0.82      0.82       268\n",
      "\n"
     ]
    }
   ],
   "source": [
    "import pandas as pd\n",
    "from sklearn.model_selection import train_test_split\n",
    "from sklearn.tree import DecisionTreeClassifier\n",
    "from sklearn.metrics import accuracy_score, classification_report, confusion_matrix"
   ]
  },
  {
   "cell_type": "code",
   "execution_count": 51,
   "id": "216f39be",
   "metadata": {},
   "outputs": [],
   "source": [
    "# Load the dataset\n",
    "df = pd.read_csv(\"titanic.csv\") # Path to the uploaded Titanic dataset"
   ]
  },
  {
   "cell_type": "code",
   "execution_count": 52,
   "id": "4615de0a",
   "metadata": {},
   "outputs": [
    {
     "name": "stdout",
     "output_type": "stream",
     "text": [
      "Initial Data Preview:\n",
      "   PassengerId  Survived  Pclass  \\\n",
      "0            1         0       3   \n",
      "1            2         1       1   \n",
      "2            3         1       3   \n",
      "3            4         1       1   \n",
      "4            5         0       3   \n",
      "\n",
      "                                                Name     Sex   Age  SibSp  \\\n",
      "0                            Braund, Mr. Owen Harris    male  22.0      1   \n",
      "1  Cumings, Mrs. John Bradley (Florence Briggs Th...  female  38.0      1   \n",
      "2                             Heikkinen, Miss. Laina  female  26.0      0   \n",
      "3       Futrelle, Mrs. Jacques Heath (Lily May Peel)  female  35.0      1   \n",
      "4                           Allen, Mr. William Henry    male  35.0      0   \n",
      "\n",
      "   Parch            Ticket     Fare Cabin Embarked  \n",
      "0      0         A/5 21171   7.2500   NaN        S  \n",
      "1      0          PC 17599  71.2833   C85        C  \n",
      "2      0  STON/O2. 3101282   7.9250   NaN        S  \n",
      "3      0            113803  53.1000  C123        S  \n",
      "4      0            373450   8.0500   NaN        S  \n"
     ]
    }
   ],
   "source": [
    "# Display the first few rows to understand the data\n",
    "print(\"Initial Data Preview:\")\n",
    "print(df.head())"
   ]
  },
  {
   "cell_type": "code",
   "execution_count": 53,
   "id": "650f89a0",
   "metadata": {},
   "outputs": [],
   "source": [
    "# Data Preprocessing\n",
    "# Dropping irrelevant columns (e.g., 'Name', 'Ticket', 'Cabin' might not be useful for prediction)\n",
    "df = df.drop(columns=['Name', 'Ticket', 'Cabin'], errors='ignore')"
   ]
  },
  {
   "cell_type": "code",
   "execution_count": 54,
   "id": "2b21d2c1",
   "metadata": {},
   "outputs": [],
   "source": [
    "# Handling missing values - Fill missing 'Age' with median, 'Embarked' with mode\n",
    "df['Age'].fillna(df['Age'].median(), inplace=True)\n",
    "df['Embarked'].fillna(df['Embarked'].mode()[0], inplace=True)"
   ]
  },
  {
   "cell_type": "code",
   "execution_count": 55,
   "id": "9d62d4f2",
   "metadata": {},
   "outputs": [],
   "source": [
    "# Converting categorical columns to numerical (e.g., 'Sex', 'Embarked')\n",
    "df['Sex'] = df['Sex'].map({'male': 0, 'female': 1})\n",
    "df['Embarked'] = df['Embarked'].map({'S': 0, 'C': 1, 'Q': 2})"
   ]
  },
  {
   "cell_type": "code",
   "execution_count": 56,
   "id": "62abfb9b",
   "metadata": {},
   "outputs": [],
   "source": [
    "# Dropping any remaining rows with missing values\n",
    "df.dropna(inplace=True)"
   ]
  },
  {
   "cell_type": "code",
   "execution_count": 57,
   "id": "6e1d0335",
   "metadata": {},
   "outputs": [
    {
     "name": "stdout",
     "output_type": "stream",
     "text": [
      "Number of samples after preprocessing: 891\n"
     ]
    }
   ],
   "source": [
    "# Check if the dataset is empty\n",
    "print(f\"Number of samples after preprocessing: {df.shape[0]}\")\n",
    "if df.shape[0] == 0:\n",
    "    raise ValueError(\"The dataset is empty after preprocessing. Check the preprocessing steps.\")"
   ]
  },
  {
   "cell_type": "code",
   "execution_count": 58,
   "id": "4c7df351",
   "metadata": {},
   "outputs": [],
   "source": [
    "# Defining features (X) and target (y)\n",
    "X = df.drop(columns=['Survived'])  # Features\n",
    "y = df['Survived']  # Target"
   ]
  },
  {
   "cell_type": "code",
   "execution_count": 59,
   "id": "582d3e97",
   "metadata": {},
   "outputs": [
    {
     "name": "stdout",
     "output_type": "stream",
     "text": [
      "Shape of X (features): (891, 8)\n",
      "Shape of y (target): (891,)\n"
     ]
    }
   ],
   "source": [
    "# Check if there are valid samples in the feature matrix\n",
    "print(f\"Shape of X (features): {X.shape}\")\n",
    "print(f\"Shape of y (target): {y.shape}\")"
   ]
  },
  {
   "cell_type": "code",
   "execution_count": 60,
   "id": "0735aa69",
   "metadata": {},
   "outputs": [],
   "source": [
    "# Splitting the dataset into training and testing sets\n",
    "X_train, X_test, y_train, y_test = train_test_split(X, y, test_size=0.3, random_state=42)"
   ]
  },
  {
   "cell_type": "code",
   "execution_count": 61,
   "id": "18975dfb",
   "metadata": {},
   "outputs": [],
   "source": [
    "# Initializing the Decision Tree Classifier with 'max_depth' parameter to prevent overfitting (tightening)\n",
    "clf = DecisionTreeClassifier(max_depth=4, random_state=42)"
   ]
  },
  {
   "cell_type": "code",
   "execution_count": 62,
   "id": "c19d5169",
   "metadata": {},
   "outputs": [
    {
     "data": {
      "text/plain": [
       "DecisionTreeClassifier(max_depth=4, random_state=42)"
      ]
     },
     "execution_count": 62,
     "metadata": {},
     "output_type": "execute_result"
    }
   ],
   "source": [
    "# Training the model\n",
    "clf.fit(X_train, y_train)"
   ]
  },
  {
   "cell_type": "code",
   "execution_count": 63,
   "id": "a6d61098",
   "metadata": {},
   "outputs": [],
   "source": [
    "# Making predictions\n",
    "y_pred = clf.predict(X_test)"
   ]
  },
  {
   "cell_type": "code",
   "execution_count": 64,
   "id": "adbc7b50",
   "metadata": {},
   "outputs": [],
   "source": [
    "# Evaluating the model\n",
    "accuracy = accuracy_score(y_test, y_pred)\n",
    "conf_matrix = confusion_matrix(y_test, y_pred)\n",
    "class_report = classification_report(y_test, y_pred)"
   ]
  },
  {
   "cell_type": "code",
   "execution_count": 65,
   "id": "8da64a2e",
   "metadata": {},
   "outputs": [
    {
     "name": "stdout",
     "output_type": "stream",
     "text": [
      "Accuracy: 0.8209\n",
      "Confusion Matrix:\n",
      "[[138  19]\n",
      " [ 29  82]]\n",
      "Classification Report:\n",
      "              precision    recall  f1-score   support\n",
      "\n",
      "           0       0.83      0.88      0.85       157\n",
      "           1       0.81      0.74      0.77       111\n",
      "\n",
      "    accuracy                           0.82       268\n",
      "   macro avg       0.82      0.81      0.81       268\n",
      "weighted avg       0.82      0.82      0.82       268\n",
      "\n"
     ]
    }
   ],
   "source": [
    "# Displaying results\n",
    "print(f\"Accuracy: {accuracy:.4f}\")\n",
    "print(\"Confusion Matrix:\")\n",
    "print(conf_matrix)\n",
    "print(\"Classification Report:\")\n",
    "print(class_report)"
   ]
  },
  {
   "cell_type": "code",
   "execution_count": null,
   "id": "cae8d5b3",
   "metadata": {},
   "outputs": [],
   "source": []
  },
  {
   "cell_type": "code",
   "execution_count": null,
   "id": "f6298f04",
   "metadata": {},
   "outputs": [],
   "source": []
  },
  {
   "cell_type": "code",
   "execution_count": null,
   "id": "b6219d44",
   "metadata": {},
   "outputs": [],
   "source": []
  },
  {
   "cell_type": "code",
   "execution_count": null,
   "id": "3da06fd7",
   "metadata": {},
   "outputs": [],
   "source": []
  },
  {
   "cell_type": "code",
   "execution_count": null,
   "id": "024a913b",
   "metadata": {},
   "outputs": [],
   "source": []
  },
  {
   "cell_type": "code",
   "execution_count": null,
   "id": "d4dae0d2",
   "metadata": {},
   "outputs": [],
   "source": []
  },
  {
   "cell_type": "code",
   "execution_count": null,
   "id": "f85789ad",
   "metadata": {},
   "outputs": [],
   "source": []
  },
  {
   "cell_type": "code",
   "execution_count": null,
   "id": "a8acce3c",
   "metadata": {},
   "outputs": [],
   "source": []
  },
  {
   "cell_type": "code",
   "execution_count": null,
   "id": "aabaa604",
   "metadata": {},
   "outputs": [],
   "source": []
  },
  {
   "cell_type": "code",
   "execution_count": null,
   "id": "852dc670",
   "metadata": {},
   "outputs": [],
   "source": []
  },
  {
   "cell_type": "code",
   "execution_count": null,
   "id": "6b12cbcd",
   "metadata": {},
   "outputs": [],
   "source": []
  }
 ],
 "metadata": {
  "kernelspec": {
   "display_name": "Python 3 (ipykernel)",
   "language": "python",
   "name": "python3"
  },
  "language_info": {
   "codemirror_mode": {
    "name": "ipython",
    "version": 3
   },
   "file_extension": ".py",
   "mimetype": "text/x-python",
   "name": "python",
   "nbconvert_exporter": "python",
   "pygments_lexer": "ipython3",
   "version": "3.9.12"
  }
 },
 "nbformat": 4,
 "nbformat_minor": 5
}
